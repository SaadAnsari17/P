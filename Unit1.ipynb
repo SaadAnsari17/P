{
 "cells": [
  {
   "cell_type": "code",
   "execution_count": null,
   "metadata": {},
   "outputs": [],
   "source": [
    "with open(\"nums.txt\",\"r\") as f:\n",
    "    for i in f:\n",
    "        print(i)\n",
    "        \n",
    "numlist=[1,2,3,45]\n",
    "print(sum(numlist))"
   ]
  },
  {
   "cell_type": "code",
   "execution_count": 8,
   "metadata": {},
   "outputs": [
    {
     "name": "stdout",
     "output_type": "stream",
     "text": [
      "15 3.0 55\n"
     ]
    }
   ],
   "source": [
    "with open(\"nums.txt\",\"r\") as f:\n",
    "    numlist=[]\n",
    "    for i in f:\n",
    "        numlist.append(int(i))\n",
    "sumlist=sum(numlist)\n",
    "meanlist=sumlist/len(numlist)\n",
    "sumsq=0\n",
    "for item in numlist:\n",
    "    sumsq+=item**2\n",
    "print(sumlist,meanlist,sumsq)\n",
    "with open(\"results.txt\",\"w\") as  f1:\n",
    "    f1.write(\"sum: \"+str(sumlist)+\"\\n\")\n",
    "    f1.write(\"mean: \"+str(meanlist)+\"\\n\")\n",
    "    f1.write(\"square sum: \"+str(sumsq)+\"\\n\")\n",
    "    \n",
    "    "
   ]
  },
  {
   "cell_type": "code",
   "execution_count": 41,
   "metadata": {},
   "outputs": [
    {
     "name": "stdout",
     "output_type": "stream",
     "text": [
      "Employee ID\n",
      "E001\n",
      "E002\n",
      "E003\n",
      "E004\n",
      "Employee Name\n",
      "Sam\n",
      "Alex\n",
      "Josh\n",
      "Hazel\n",
      "Basic Salary\n",
      "10000\n",
      "20000\n",
      "30000\n",
      "40000\n"
     ]
    }
   ],
   "source": [
    "empid=[]\n",
    "empname=[]\n",
    "basic=[]\n",
    "netsalary=[]\n",
    "with open(\"Emp.txt\") as f1:\n",
    "    for line in f1:\n",
    "        eid,ename,b,=line.split()\n",
    "        empid.append(eid)\n",
    "        empname.append(ename)\n",
    "        basic.append(int(b))\n",
    "print(\"Employee ID\")\n",
    "for i in empid:\n",
    "    print(i)\n",
    "print(\"Employee Name\")\n",
    "for i in empname:\n",
    "    print(i)\n",
    "print(\"Basic Salary\")\n",
    "for i in basic:\n",
    "    print(i)\n",
    "\n",
    "    da=.85*i\n",
    "    hra=.5*i\n",
    "    ta=.12*1\n",
    "    ns=i+da+hra+ta\n",
    "    netsalary.append(ns)\n",
    "with open(\"palyslip.txt\",\"w\") as f2:\n",
    "    for i in range(0,len(empid)):\n",
    "        x=str(empid[i])+\" \"+str(netsalary[i])+\"\\n\"\n",
    "        f2.write(x)\n",
    "        "
   ]
  },
  {
   "cell_type": "code",
   "execution_count": 1,
   "metadata": {},
   "outputs": [],
   "source": [
    "fact=1\n",
    "with open(\"nums.txt\",\"r\") as f1,open(\"fact.txt\",\"w\") as f2:\n",
    "    for i in f1:\n",
    "        fact = fact*int(i)\n",
    "        f2.write(str(fact)+\"\\n\")"
   ]
  },
  {
   "cell_type": "code",
   "execution_count": 61,
   "metadata": {},
   "outputs": [
    {
     "name": "stdout",
     "output_type": "stream",
     "text": [
      "Quotient of 55 and 5 is 11.0\n",
      "No Exception\n",
      "Exception handling is done here\n"
     ]
    }
   ],
   "source": [
    "try:\n",
    "    x = int(input(\"Enter a number: \"))\n",
    "    y = int(input(\"Enter a number: \"))\n",
    "    z=x/y\n",
    "    print(f\"Quotient of {x} and {y} is {z}\")\n",
    "except ZeroDivisionError:\n",
    "    print(\"Zero in denominator is invalid\")\n",
    "except NameError:\n",
    "    print(\"Variable not defined Argument\")\n",
    "except ValueError:\n",
    "    print(\"Improper argument\")\n",
    "else:\n",
    "    print(\"No Exception\")\n",
    "finally:\n",
    "    print(\"Exception handling is done here\")\n"
   ]
  },
  {
   "cell_type": "code",
   "execution_count": 66,
   "metadata": {},
   "outputs": [
    {
     "name": "stdout",
     "output_type": "stream",
     "text": [
      "1\n",
      "2\n",
      "3\n",
      "4\n",
      "5\n",
      "6\n",
      "7\n",
      "8\n",
      "9\n",
      "10\n"
     ]
    }
   ],
   "source": [
    "l=[1,2,3,4,5,6,7,8,9,10]\n",
    "list_iter = iter(l)\n",
    "while True:\n",
    "    try:\n",
    "        x=next(list_iter)\n",
    "        print(x)\n",
    "    except StopIteration:\n",
    "        break"
   ]
  },
  {
   "cell_type": "code",
   "execution_count": 3,
   "metadata": {},
   "outputs": [
    {
     "name": "stdout",
     "output_type": "stream",
     "text": [
      "1\n",
      "2\n",
      "4\n",
      "8\n",
      "16\n",
      "32\n",
      "64\n"
     ]
    }
   ],
   "source": [
    "class PowTow:\n",
    "    def __init__(self,max=0):\n",
    "        self.max = max\n",
    "    def __iter__(self):\n",
    "        self.n=0\n",
    "        return self\n",
    "    def __next__(self):\n",
    "        if self.n < self.max:\n",
    "            result = 2**self.n\n",
    "            self.n+=1\n",
    "            return result\n",
    "        else:\n",
    "            raise StopIteration\n",
    "\n",
    "a=PowTow(7)\n",
    "aiter=iter(a)\n",
    "while True:\n",
    "    try:\n",
    "        x=next(aiter)\n",
    "        print(x)\n",
    "    except StopIteration:\n",
    "        break"
   ]
  },
  {
   "cell_type": "code",
   "execution_count": 1,
   "metadata": {},
   "outputs": [
    {
     "name": "stdout",
     "output_type": "stream",
     "text": [
      "Rd. abc street xyz district wbd\n",
      "Rd. abc St. xyz district wbd\n",
      "Rd. abc St. xyz Dst. wbd\n"
     ]
    }
   ],
   "source": [
    "import re \n",
    "str = input(\"Enter the address: \")\n",
    "str = re.sub(r\"[Rr]oad\",\"Rd.\",str)\n",
    "print(str)\n",
    "str = re.sub(r\"[Ss]treet\",\"St.\",str)\n",
    "print(str)\n",
    "str = re.sub(r\"[Dd]istrict\",\"Dst.\",str)\n",
    "print(str)"
   ]
  },
  {
   "cell_type": "code",
   "execution_count": 3,
   "metadata": {},
   "outputs": [
    {
     "name": "stdout",
     "output_type": "stream",
     "text": [
      "the string stringabcontains patter\n"
     ]
    }
   ],
   "source": [
    "import re\n",
    "def text_match(str):\n",
    "    if re.search(r\"a.*b$\",str):\n",
    "        res = f\"the string {str} contains patter\"\n",
    "    else:\n",
    "        res = f\"the string{str} does not contains pattern\"\n",
    "    return res\n",
    "str = input(\"Enter the string: \")\n",
    "x=text_match(str)\n",
    "print(x)\n"
   ]
  },
  {
   "cell_type": "code",
   "execution_count": 6,
   "metadata": {},
   "outputs": [
    {
     "name": "stdout",
     "output_type": "stream",
     "text": [
      "the stringstring does not contains pattern\n"
     ]
    }
   ],
   "source": [
    "import re\n",
    "def text_match(str):\n",
    "    if re.search(r\"ab*\",str):\n",
    "        res = f\"the string {str} contains patter\"\n",
    "    else:\n",
    "        res = f\"the string{str} does not contains pattern\"\n",
    "    return res\n",
    "str = input(\"Enter the string: \")\n",
    "x=text_match(str)\n",
    "print(x)\n"
   ]
  },
  {
   "cell_type": "code",
   "execution_count": 17,
   "metadata": {},
   "outputs": [
    {
     "name": "stdout",
     "output_type": "stream",
     "text": [
      "valid Username\n",
      "Invalid Number\n",
      "Invalid email\n"
     ]
    }
   ],
   "source": [
    "import re\n",
    "x = input(\"Enter user name: \")\n",
    "y = input(\"Enter mobile number: \")\n",
    "z = input(\"ENter email: \")\n",
    "\n",
    "if re.match(r\"[A-Za-z]\\w{7,14}$\",x):\n",
    "    print(\"Valid username\")\n",
    "else:\n",
    "    print(\"Invalid Username\")\n",
    "\n",
    "if re.match(r\"\\d{10}$\",y):\n",
    "    print(\"Valid Number\")\n",
    "else:\n",
    "    print(\"Invalid Number\")\n",
    "\n",
    "if re.match(r\"[a-z][a-z0-9._]*@[a-z0-9]+[.]com$\",z):\n",
    "    print(\"valid email\")\n",
    "else:\n",
    "    print(\"Invalid email\")\n"
   ]
  },
  {
   "cell_type": "code",
   "execution_count": 12,
   "metadata": {},
   "outputs": [],
   "source": [
    "from tkinter import *\n",
    "root=Tk()\n",
    "l1=Label(root,text=\"USername\").grid(row=0)\n",
    "e1=Entry(root).grid(row=0,column=1)\n",
    "l2=Label(root,text=\"Password\").grid(row=1)\n",
    "e2=Entry(root).grid(row=1,column=1)\n",
    "\n",
    "root.mainloop()\n"
   ]
  },
  {
   "cell_type": "code",
   "execution_count": 11,
   "metadata": {},
   "outputs": [],
   "source": [
    "from tkinter import *\n",
    "window=Tk()\n",
    "def onclick():\n",
    "    if label['text']==\"Hello world\":\n",
    "        label.configure(text=\"HEllo python\")\n",
    "    \n",
    "    else:\n",
    "        label.configure(text=\"Hello world\")\n",
    "label=Label(window,text=\"Hello world\")\n",
    "label.pack()\n",
    "button=Button(window,text=\"Click to change text\",command=onclick)\n",
    "button.pack()\n",
    "\n",
    "window.mainloop()"
   ]
  },
  {
   "cell_type": "code",
   "execution_count": 38,
   "metadata": {},
   "outputs": [],
   "source": [
    "from tkinter import *\n",
    "root=Tk()\n",
    "root.title(\"Tkinter\")\n",
    "def comb():\n",
    "    x=(e1.get())\n",
    "    y=(e2.get())\n",
    "    l3.configure(text=x+\" \"+y)\n",
    "l1=Label(root,text=\"first name\")\n",
    "l1.grid(row=0)\n",
    "l2=Label(root,text=\"second name\")\n",
    "l2.grid(row=1)\n",
    "e1=Entry(root)\n",
    "e1.grid(row=0,column=1)\n",
    "e2=Entry(root)\n",
    "e2.grid(row=1,column=1)\n",
    "b1=Button(root,text=\"MErge\",width=25,command=comb)\n",
    "b1.grid(row=2,column=1)\n",
    "l3=Label(root,text=\"\")\n",
    "l3.grid(row=3)\n",
    "root.mainloop()"
   ]
  },
  {
   "cell_type": "code",
   "execution_count": 1,
   "metadata": {},
   "outputs": [],
   "source": [
    "from tkinter import *\n",
    "import tkinter\n",
    "root = tkinter.Tk()\n",
    "data = tkinter.StringVar()\n",
    "data.set(\"Data to display\")\n",
    "label = tkinter.Label(root,textvariable=data)\n",
    "label.pack()\n",
    "root.mainloop()"
   ]
  },
  {
   "cell_type": "code",
   "execution_count": 3,
   "metadata": {},
   "outputs": [],
   "source": [
    "from tkinter import *\n",
    "def add():\n",
    "    x.set(int(e1.get())+int(e2.get()))\n",
    "\n",
    "root=Tk()\n",
    "x=IntVar()\n",
    "label=Label(root,text=\"NUM one\")\n",
    "label.grid(row=0)\n",
    "e1=Entry(root)\n",
    "e1.grid(row=0,column=1)\n",
    "label=Label(root,text=\"NUM two\")\n",
    "label.grid(row=1)\n",
    "e2=Entry(root)\n",
    "e2.grid(row=1,column=1)\n",
    "label=Label(root,textvariable=x)\n",
    "label.grid(row=2)\n",
    "b1=Button(root,text=\"Add\",command=add)\n",
    "b1.grid(row=2,column=1)\n",
    "root.mainloop()"
   ]
  },
  {
   "cell_type": "code",
   "execution_count": 51,
   "metadata": {},
   "outputs": [],
   "source": [
    "from tkinter import *\n",
    "window =Tk()\n",
    "count =IntVar()\n",
    "count.set(0)\n",
    "def click(var,value):\n",
    "    var.set(var.get()+value)\n",
    "frame =Frame(window)\n",
    "frame.pack()\n",
    "button = Button(frame,text=\"UP\",command=lambda:click(count,1))\n",
    "button.pack()\n",
    "button = Button(frame,text=\"Down\",command=lambda:click(count,-1))\n",
    "button.pack()\n",
    "label=Label(frame,textvariable=count)\n",
    "label.pack()\n",
    "window.mainloop()"
   ]
  },
  {
   "cell_type": "code",
   "execution_count": 7,
   "metadata": {},
   "outputs": [],
   "source": [
    "from tkinter import *\n",
    "master = Tk()\n",
    "master.geometry(\"200x100\")\n",
    "master.title(\"hobbies\")\n",
    "var1=IntVar()\n",
    "Checkbutton(master,text=\"Singing\",variable=var1).grid(row=0,sticky=NSEW)\n",
    "var2=IntVar()\n",
    "Checkbutton(master,text=\"Dancing\",variable=var2).grid(row=1,sticky=W)\n",
    "master.mainloop()"
   ]
  },
  {
   "cell_type": "code",
   "execution_count": 5,
   "metadata": {},
   "outputs": [],
   "source": [
    "from tkinter import *\n",
    "root = Tk()\n",
    "root.title(\"Gender\")\n",
    "v = IntVar()\n",
    "Radiobutton(root, text='GfG', variable=v, value=1).pack(anchor=W)\n",
    "Radiobutton(root, text='MIT', variable=v, value=2).pack(anchor=W)\n",
    "\n",
    "# Radiobutton(root, text='MIT').pack(anchor=W)\n",
    "root.mainloop()"
   ]
  },
  {
   "cell_type": "code",
   "execution_count": 65,
   "metadata": {},
   "outputs": [],
   "source": [
    "from tkinter import *\n",
    "\n",
    "root=Tk()\n",
    "canva=Canvas(height=250,width=300)\n",
    "canva.create_rectangle(70,150,230,80,fill=\"blue\")\n",
    "canva.create_rectangle(100,135,200,90,fill=\"red\")\n",
    "canva.create_rectangle(0,0,150,125,fill=\"yellow\")\n",
    "canva.create_rectangle(150,125,300,250,fill=\"red\")\n",
    "canva.create_line(0,0,70,82,fill=\"green\",width=3)\n",
    "canva.create_line(0,250,70,150)\n",
    "canva.create_line(300,0,230,80)\n",
    "canva.create_line(215,150,300,250)\n",
    "\n",
    "\n",
    "canva.pack()\n",
    "\n",
    "root.mainloop()"
   ]
  },
  {
   "cell_type": "code",
   "execution_count": 5,
   "metadata": {},
   "outputs": [],
   "source": []
  }
 ],
 "metadata": {
  "interpreter": {
   "hash": "c73a7d09fa17042a32a4e6b46bf8a885da4b31a7b083add9215de24ced658ffb"
  },
  "kernelspec": {
   "display_name": "Python 3.10.4 64-bit",
   "language": "python",
   "name": "python3"
  },
  "language_info": {
   "codemirror_mode": {
    "name": "ipython",
    "version": 3
   },
   "file_extension": ".py",
   "mimetype": "text/x-python",
   "name": "python",
   "nbconvert_exporter": "python",
   "pygments_lexer": "ipython3",
   "version": "3.10.4"
  },
  "orig_nbformat": 4
 },
 "nbformat": 4,
 "nbformat_minor": 2
}
