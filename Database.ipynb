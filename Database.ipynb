{
 "cells": [
  {
   "cell_type": "code",
   "execution_count": 1,
   "metadata": {},
   "outputs": [
    {
     "name": "stdout",
     "output_type": "stream",
     "text": [
      "Requirement already satisfied: mysql-connector-python in c:\\users\\saad\\appdata\\local\\programs\\python\\python310\\lib\\site-packages (8.0.28)\n",
      "Requirement already satisfied: protobuf>=3.0.0 in c:\\users\\saad\\appdata\\local\\programs\\python\\python310\\lib\\site-packages (from mysql-connector-python) (3.20.0)\n",
      "Note: you may need to restart the kernel to use updated packages.\n"
     ]
    }
   ],
   "source": [
    "pip install mysql-connector-python"
   ]
  },
  {
   "cell_type": "code",
   "execution_count": 11,
   "metadata": {},
   "outputs": [],
   "source": [
    "import mysql.connector\n"
   ]
  },
  {
   "cell_type": "code",
   "execution_count": 44,
   "metadata": {},
   "outputs": [],
   "source": [
    "coon=mysql.connector.connect(host=\"localhost\",database=\"School\",user=\"root\",password=\"\")"
   ]
  },
  {
   "cell_type": "code",
   "execution_count": 47,
   "metadata": {},
   "outputs": [],
   "source": [
    "mycur = coon.cursor()"
   ]
  },
  {
   "cell_type": "code",
   "execution_count": 46,
   "metadata": {},
   "outputs": [
    {
     "name": "stdout",
     "output_type": "stream",
     "text": [
      "('company',)\n",
      "('dbemp',)\n",
      "('information_schema',)\n",
      "('mysql',)\n",
      "('performance_schema',)\n",
      "('phpmyadmin',)\n",
      "('school',)\n",
      "('test',)\n"
     ]
    }
   ],
   "source": [
    "mycur.execute(\"SHOW DATABASES\")\n",
    "for i in mycur:\n",
    "    print(i)"
   ]
  },
  {
   "cell_type": "code",
   "execution_count": 29,
   "metadata": {},
   "outputs": [],
   "source": [
    "mycur.execute(\"CREATE DATABASE School\")"
   ]
  },
  {
   "cell_type": "code",
   "execution_count": 33,
   "metadata": {},
   "outputs": [],
   "source": [
    "mycur.execute(\"CREATE TABLE STUDENT(STUID INT,STUNAME VARCHAR(50),ROLL INT)\")"
   ]
  },
  {
   "cell_type": "code",
   "execution_count": 35,
   "metadata": {},
   "outputs": [],
   "source": [
    "rec = \"INSERT INTO STUDENT(STUID,STUNAME,ROLL)VALUES(%s,%s,%s) \"\n",
    "values =[(1,\"Ronaldo\",11),(2,\"Messi\",22),(3,\"Ben\",33),(4,\"Lew\",44),(5,\"Adam\",55)]\n",
    "mycur.executemany(rec,values)\n",
    "coon.commit()"
   ]
  },
  {
   "cell_type": "code",
   "execution_count": null,
   "metadata": {},
   "outputs": [],
   "source": []
  },
  {
   "cell_type": "code",
   "execution_count": 53,
   "metadata": {},
   "outputs": [
    {
     "name": "stdout",
     "output_type": "stream",
     "text": [
      "(1, 'Ronaldo', 11)\n",
      "(17, 'Messi', 22)\n",
      "(3, 'Ben', 33)\n",
      "(4, 'Lew', 44)\n",
      "(5, 'Adam', 55)\n"
     ]
    }
   ],
   "source": [
    "mycur.execute(\"SELECT * FROM STUDENT\")\n",
    "result = mycur.fetchall()\n",
    "for i in result:\n",
    "    print(i)"
   ]
  },
  {
   "cell_type": "code",
   "execution_count": 48,
   "metadata": {},
   "outputs": [],
   "source": [
    "query = \"SELECT * FROM STUDENT WHERE ROLL=%s\"\n",
    "rollnumber = int(input(\"Enter number\"))\n",
    "roll=(rollnumber,)\n",
    "mycur.execute(query,roll)\n",
    "x=mycur.fetchall()\n",
    "for i in x:\n",
    "    print(i)\n",
    "\n"
   ]
  },
  {
   "cell_type": "code",
   "execution_count": 50,
   "metadata": {},
   "outputs": [
    {
     "name": "stdout",
     "output_type": "stream",
     "text": [
      "(5, 'Adam', 55)\n"
     ]
    }
   ],
   "source": [
    "roll=\"SELECT * FROM STUDENT WHERE STUID=5\"\n",
    "mycur.execute(roll)\n",
    "x=mycur.fetchall()\n",
    "for i in x:\n",
    "    print(i)"
   ]
  },
  {
   "cell_type": "code",
   "execution_count": 51,
   "metadata": {},
   "outputs": [],
   "source": [
    "update=\"UPDATE STUDENT SET STUID=17 WHERE STUNAME='Messi'\"\n",
    "mycur.execute(update)\n",
    "coon.commit()"
   ]
  },
  {
   "cell_type": "code",
   "execution_count": 54,
   "metadata": {},
   "outputs": [],
   "source": [
    "mycur.close()\n",
    "coon.close()"
   ]
  },
  {
   "cell_type": "code",
   "execution_count": 1,
   "metadata": {},
   "outputs": [
    {
     "data": {
      "text/plain": [
       "['Database.ipynb', 'file.c']"
      ]
     },
     "execution_count": 1,
     "metadata": {},
     "output_type": "execute_result"
    }
   ],
   "source": [
    "import os\n",
    "os.listdir()"
   ]
  }
 ],
 "metadata": {
  "interpreter": {
   "hash": "c73a7d09fa17042a32a4e6b46bf8a885da4b31a7b083add9215de24ced658ffb"
  },
  "kernelspec": {
   "display_name": "Python 3.10.4 64-bit",
   "language": "python",
   "name": "python3"
  },
  "language_info": {
   "codemirror_mode": {
    "name": "ipython",
    "version": 3
   },
   "file_extension": ".py",
   "mimetype": "text/x-python",
   "name": "python",
   "nbconvert_exporter": "python",
   "pygments_lexer": "ipython3",
   "version": "3.10.4"
  },
  "orig_nbformat": 4
 },
 "nbformat": 4,
 "nbformat_minor": 2
}
